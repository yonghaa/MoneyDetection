{
 "cells": [
  {
   "cell_type": "code",
   "execution_count": null,
   "id": "d668c2a0",
   "metadata": {},
   "outputs": [],
   "source": [
    "# 파라미터 변경해서 다시 확인하기\n",
    "# epochs :30 ->100 변경\n",
    "# Dropout : 0.25 \n",
    "# batch size : 16"
   ]
  },
  {
   "cell_type": "code",
   "execution_count": null,
   "id": "aae8d1d3",
   "metadata": {},
   "outputs": [],
   "source": [
    "# 1. 라이브러리 임포트"
   ]
  },
  {
   "cell_type": "code",
   "execution_count": 1,
   "id": "5f00f637",
   "metadata": {
    "ExecuteTime": {
     "end_time": "2023-11-27T16:12:47.411021Z",
     "start_time": "2023-11-27T16:12:47.403771Z"
    }
   },
   "outputs": [],
   "source": [
    "import tensorflow as tf\n",
    "from keras.preprocessing.image import ImageDataGenerator\n",
    "\n",
    "import numpy as np\n",
    "import pandas as pd\n",
    "\n",
    "import matplotlib.pyplot as plt\n",
    "import seaborn as sns\n",
    "\n",
    "import tensorflow as tf\n",
    "from sklearn.model_selection import train_test_split\n",
    "from tensorflow.keras.models import Sequential\n",
    "from tensorflow.keras.layers import Dense, Dropout, Flatten, Conv2D, MaxPooling2D\n",
    "from tensorflow.keras.callbacks import ModelCheckpoint, EarlyStopping\n",
    "\n",
    "from tensorflow.keras.preprocessing import image\n",
    "from tensorflow.image import resize"
   ]
  },
  {
   "cell_type": "code",
   "execution_count": 84,
   "id": "495fdf0f",
   "metadata": {
    "ExecuteTime": {
     "end_time": "2023-11-27T16:04:12.957934Z",
     "start_time": "2023-11-27T16:04:12.954249Z"
    }
   },
   "outputs": [],
   "source": [
    "# 2. 모델 생성 ( Sequential ~ compile까지만 실행 )"
   ]
  },
  {
   "cell_type": "code",
   "execution_count": 66,
   "id": "e32095e4",
   "metadata": {
    "ExecuteTime": {
     "end_time": "2023-11-27T16:12:49.710186Z",
     "start_time": "2023-11-27T16:12:48.890840Z"
    }
   },
   "outputs": [],
   "source": [
    "# model=Sequential()\n",
    "\n",
    "# model.add(Conv2D(64, kernel_size=(3, 3), activation='relu', input_shape=(244, 244, 3)))\n",
    "# model.add(MaxPooling2D(pool_size=(2, 2)))\n",
    "# model.add(Dropout(0.25))\n",
    "\n",
    "# model.add(Conv2D(128, (3, 3), activation='relu'))\n",
    "# model.add(MaxPooling2D((2, 2)))\n",
    "# model.add(Dropout(0.25))\n",
    "\n",
    "# model.add(Flatten())\n",
    "# model.add(Dense(256, activation='relu'))\n",
    "# model.add(Dropout(0.25))\n",
    "# model.add(Dense(12, activation='softmax'))"
   ]
  },
  {
   "cell_type": "code",
   "execution_count": 2,
   "id": "69264fdb",
   "metadata": {},
   "outputs": [],
   "source": [
    "model=Sequential()\n",
    "\n",
    "model.add(tf.keras.layers.Conv2D(filters=256, kernel_size=3, activation='relu', input_shape=[224, 224, 3]))\n",
    "model.add(tf.keras.layers.MaxPool2D(pool_size=2, strides=2))\n",
    "\n",
    "model.add(tf.keras.layers.Conv2D(filters=128, kernel_size=3, activation='relu'))\n",
    "model.add(tf.keras.layers.MaxPool2D(pool_size=2, strides=2))\n",
    "\n",
    "model.add(tf.keras.layers.Conv2D(filters=64, kernel_size=3, activation='relu'))\n",
    "model.add(tf.keras.layers.MaxPool2D(pool_size=2, strides=2))\n",
    "\n",
    "model.add(tf.keras.layers.Flatten())\n",
    "\n",
    "model.add(tf.keras.layers.Dense(units=32, activation='relu'))\n",
    "model.add(tf.keras.layers.Dropout(0.2))\n",
    "\n",
    "model.add(tf.keras.layers.Dense(12, activation='softmax'))\n",
    "\n",
    "# model.compile(optimizer = 'adam', loss = 'categorical_crossentropy', metrics = ['accuracy'])\n",
    "# cnn.fit(x = training_set, epochs = 10)"
   ]
  },
  {
   "cell_type": "code",
   "execution_count": 3,
   "id": "452b117f",
   "metadata": {
    "ExecuteTime": {
     "end_time": "2023-11-27T16:12:52.028785Z",
     "start_time": "2023-11-27T16:12:52.012224Z"
    }
   },
   "outputs": [],
   "source": [
    "model.compile(optimizer='adam',\n",
    "             loss='categorical_crossentropy',\n",
    "             metrics=['accuracy'])"
   ]
  },
  {
   "cell_type": "code",
   "execution_count": 4,
   "id": "08908691",
   "metadata": {
    "ExecuteTime": {
     "end_time": "2023-11-27T16:12:53.270709Z",
     "start_time": "2023-11-27T16:12:53.264884Z"
    }
   },
   "outputs": [],
   "source": [
    "model_dir = \"./model6\"\n",
    "model_path = model_dir + \"/BILLS.hdf5\""
   ]
  },
  {
   "cell_type": "code",
   "execution_count": 88,
   "id": "acaec80c",
   "metadata": {},
   "outputs": [],
   "source": [
    "# 3. ImageDataGenerator를 통한 트레이닝,테스트 데이터 만들기\n",
    "# - 디렉토리 지정을 통한 데이터 증식\n",
    "# - fit으로 훈련 시키기"
   ]
  },
  {
   "cell_type": "code",
   "execution_count": 5,
   "id": "ef49a3c2",
   "metadata": {
    "ExecuteTime": {
     "end_time": "2023-11-27T16:13:07.025106Z",
     "start_time": "2023-11-27T16:13:07.019162Z"
    }
   },
   "outputs": [],
   "source": [
    "train_gen = ImageDataGenerator(rescale = 1./255,\n",
    "                              #shear_range=0.2,\n",
    "                              #zoom_range=0.2,\n",
    "                              rotation_range = 90) \n",
    "                              # horizontal_flip=True"
   ]
  },
  {
   "cell_type": "code",
   "execution_count": 6,
   "id": "8f449b4f",
   "metadata": {
    "ExecuteTime": {
     "end_time": "2023-11-27T16:13:09.542448Z",
     "start_time": "2023-11-27T16:13:09.502167Z"
    }
   },
   "outputs": [
    {
     "name": "stdout",
     "output_type": "stream",
     "text": [
      "Found 6000 images belonging to 12 classes.\n"
     ]
    }
   ],
   "source": [
    "train_flow_gen = train_gen.flow_from_directory(directory=\"C:/Users/user/Desktop/Pics/train\",\n",
    "                                              target_size=(224,224),\n",
    "                                              class_mode='categorical',\n",
    "                                              batch_size=32,\n",
    "                                              shuffle=True)"
   ]
  },
  {
   "cell_type": "code",
   "execution_count": 7,
   "id": "d34f5e73",
   "metadata": {
    "ExecuteTime": {
     "end_time": "2023-11-27T16:13:08.119748Z",
     "start_time": "2023-11-27T16:13:08.115419Z"
    }
   },
   "outputs": [],
   "source": [
    "test_gen = ImageDataGenerator(rescale=1./255)"
   ]
  },
  {
   "cell_type": "code",
   "execution_count": 9,
   "id": "49771e38",
   "metadata": {
    "ExecuteTime": {
     "end_time": "2023-11-27T16:13:14.209605Z",
     "start_time": "2023-11-27T16:13:14.187087Z"
    }
   },
   "outputs": [
    {
     "name": "stdout",
     "output_type": "stream",
     "text": [
      "Found 600 images belonging to 12 classes.\n"
     ]
    }
   ],
   "source": [
    "test_flow_gen = test_gen.flow_from_directory(directory=\"C:/Users/user/Desktop/Pics/test\",\n",
    "                                            target_size=(224,224),\n",
    "                                            class_mode='categorical',\n",
    "                                            batch_size=32,\n",
    "                                            shuffle=False)"
   ]
  },
  {
   "cell_type": "code",
   "execution_count": 10,
   "id": "769ac776",
   "metadata": {},
   "outputs": [
    {
     "name": "stdout",
     "output_type": "stream",
     "text": [
      "Found 1800 images belonging to 12 classes.\n"
     ]
    }
   ],
   "source": [
    "validation_flow_gen = test_gen.flow_from_directory(directory=\"C:/Users/user/Desktop/Pics/validation\",\n",
    "                                            target_size=(224,224),\n",
    "                                            class_mode='categorical',\n",
    "                                            batch_size=32,\n",
    "                                            shuffle=False)"
   ]
  },
  {
   "cell_type": "code",
   "execution_count": 11,
   "id": "a05a4291",
   "metadata": {
    "ExecuteTime": {
     "end_time": "2023-11-27T16:13:04.111989Z",
     "start_time": "2023-11-27T16:13:04.107290Z"
    }
   },
   "outputs": [],
   "source": [
    "early_stopping = EarlyStopping(monitor = 'val_loss', patience = 10)\n",
    "checkpoint = ModelCheckpoint(filepath = model_path,\n",
    "                             monitor = 'val_loss',\n",
    "                            verbose = 1,\n",
    "                            save_best_only = True)                            "
   ]
  },
  {
   "cell_type": "code",
   "execution_count": 12,
   "id": "ed0db172",
   "metadata": {
    "ExecuteTime": {
     "start_time": "2023-11-27T16:20:18.535Z"
    }
   },
   "outputs": [
    {
     "name": "stdout",
     "output_type": "stream",
     "text": [
      "Epoch 1/100\n",
      "188/188 [==============================] - ETA: 0s - loss: 2.3748 - accuracy: 0.1653\n",
      "Epoch 1: val_loss improved from inf to 2.33334, saving model to ./model6\\BILLS.hdf5\n",
      "188/188 [==============================] - 792s 4s/step - loss: 2.3748 - accuracy: 0.1653 - val_loss: 2.3333 - val_accuracy: 0.1172\n",
      "Epoch 2/100\n"
     ]
    },
    {
     "name": "stderr",
     "output_type": "stream",
     "text": [
      "C:\\Users\\user\\anaconda3\\Lib\\site-packages\\keras\\src\\engine\\training.py:3079: UserWarning: You are saving your model as an HDF5 file via `model.save()`. This file format is considered legacy. We recommend using instead the native Keras format, e.g. `model.save('my_model.keras')`.\n",
      "  saving_api.save_model(\n"
     ]
    },
    {
     "name": "stdout",
     "output_type": "stream",
     "text": [
      "188/188 [==============================] - ETA: 0s - loss: 1.8934 - accuracy: 0.3458\n",
      "Epoch 2: val_loss did not improve from 2.33334\n",
      "188/188 [==============================] - 789s 4s/step - loss: 1.8934 - accuracy: 0.3458 - val_loss: 11.9107 - val_accuracy: 0.1294\n",
      "Epoch 3/100\n",
      "188/188 [==============================] - ETA: 0s - loss: 0.5413 - accuracy: 0.8275\n",
      "Epoch 3: val_loss did not improve from 2.33334\n",
      "188/188 [==============================] - 794s 4s/step - loss: 0.5413 - accuracy: 0.8275 - val_loss: 17.5356 - val_accuracy: 0.1822\n",
      "Epoch 4/100\n",
      "188/188 [==============================] - ETA: 0s - loss: 0.1536 - accuracy: 0.9498\n",
      "Epoch 4: val_loss did not improve from 2.33334\n",
      "188/188 [==============================] - 784s 4s/step - loss: 0.1536 - accuracy: 0.9498 - val_loss: 14.3585 - val_accuracy: 0.1517\n",
      "Epoch 5/100\n",
      "188/188 [==============================] - ETA: 0s - loss: 0.1052 - accuracy: 0.9685\n",
      "Epoch 5: val_loss did not improve from 2.33334\n",
      "188/188 [==============================] - 780s 4s/step - loss: 0.1052 - accuracy: 0.9685 - val_loss: 21.3239 - val_accuracy: 0.1378\n",
      "Epoch 6/100\n",
      "188/188 [==============================] - ETA: 0s - loss: 0.3404 - accuracy: 0.8985\n",
      "Epoch 6: val_loss did not improve from 2.33334\n",
      "188/188 [==============================] - 774s 4s/step - loss: 0.3404 - accuracy: 0.8985 - val_loss: 5.4077 - val_accuracy: 0.1983\n",
      "Epoch 7/100\n",
      "188/188 [==============================] - ETA: 0s - loss: 0.2973 - accuracy: 0.9060\n",
      "Epoch 7: val_loss did not improve from 2.33334\n",
      "188/188 [==============================] - 1091s 6s/step - loss: 0.2973 - accuracy: 0.9060 - val_loss: 6.8719 - val_accuracy: 0.2411\n",
      "Epoch 8/100\n",
      "188/188 [==============================] - ETA: 0s - loss: 0.1150 - accuracy: 0.9655\n",
      "Epoch 8: val_loss did not improve from 2.33334\n",
      "188/188 [==============================] - 787s 4s/step - loss: 0.1150 - accuracy: 0.9655 - val_loss: 8.2181 - val_accuracy: 0.1894\n",
      "Epoch 9/100\n",
      "188/188 [==============================] - ETA: 0s - loss: 0.1036 - accuracy: 0.9695\n",
      "Epoch 9: val_loss did not improve from 2.33334\n",
      "188/188 [==============================] - 788s 4s/step - loss: 0.1036 - accuracy: 0.9695 - val_loss: 11.5648 - val_accuracy: 0.1333\n",
      "Epoch 10/100\n",
      "188/188 [==============================] - ETA: 0s - loss: 0.0790 - accuracy: 0.9748\n",
      "Epoch 10: val_loss did not improve from 2.33334\n",
      "188/188 [==============================] - 782s 4s/step - loss: 0.0790 - accuracy: 0.9748 - val_loss: 9.2268 - val_accuracy: 0.3039\n",
      "Epoch 11/100\n",
      "188/188 [==============================] - ETA: 0s - loss: 0.0476 - accuracy: 0.9848\n",
      "Epoch 11: val_loss did not improve from 2.33334\n",
      "188/188 [==============================] - 771s 4s/step - loss: 0.0476 - accuracy: 0.9848 - val_loss: 10.5891 - val_accuracy: 0.2406\n"
     ]
    }
   ],
   "source": [
    "train_hist = model.fit(train_flow_gen, \n",
    "                       epochs = 100,\n",
    "                       batch_size = 32,\n",
    "                       validation_data = validation_flow_gen, \n",
    "                       verbose = 1,\n",
    "                       callbacks = [early_stopping, checkpoint])\n",
    "\n",
    "# train, validation 데이터로 fit\n",
    "# steps_per_epochs 한 번 epoch를 돌 때, 데이터를 몇 번 볼 것인가. 트레이닝 데이터 수 / 배치사이즈\n",
    "# validation_steops : 한 번 epoch를 돌고난 후, validation set을 통해 validation accuracy를 측정할 때, validation set을 몇 번 볼 것인지. validation data 수 / 배치사이즈\n"
   ]
  },
  {
   "cell_type": "code",
   "execution_count": null,
   "id": "25145efc",
   "metadata": {},
   "outputs": [],
   "source": []
  },
  {
   "cell_type": "code",
   "execution_count": 13,
   "id": "0fca4946",
   "metadata": {
    "ExecuteTime": {
     "end_time": "2023-11-27T15:47:49.595453Z",
     "start_time": "2023-11-27T15:47:31.443853Z"
    }
   },
   "outputs": [
    {
     "name": "stdout",
     "output_type": "stream",
     "text": [
      "19/19 [==============================] - 39s 2s/step - loss: 1.7206 - accuracy: 0.7067\n"
     ]
    },
    {
     "data": {
      "text/plain": [
       "[1.7206305265426636, 0.7066666483879089]"
      ]
     },
     "execution_count": 13,
     "metadata": {},
     "output_type": "execute_result"
    }
   ],
   "source": [
    "# 모델 평가\n",
    "model.evaluate(test_flow_gen)\n"
   ]
  },
  {
   "cell_type": "code",
   "execution_count": 14,
   "id": "e4b51d14",
   "metadata": {},
   "outputs": [
    {
     "name": "stdout",
     "output_type": "stream",
     "text": [
      "{'10000krw': 0, '1000jpy': 1, '1000krw': 2, '1000twd': 3, '1000vnd': 4, '10euro': 5, '20thb': 6, '2usd': 7, '5000jpy': 8, '5000krw': 9, '500vnd': 10, '50euro': 11}\n"
     ]
    }
   ],
   "source": [
    "# 클래스 레이블 확인하기\n",
    "class_indices = train_flow_gen.class_indices\n",
    "print(class_indices)"
   ]
  },
  {
   "cell_type": "code",
   "execution_count": 15,
   "id": "acfd9b37",
   "metadata": {},
   "outputs": [],
   "source": [
    "#인덱스에 해당하는 클래스 레이블 찾기\n",
    "def get_key(val):\n",
    "    for key, value in class_indices.items():\n",
    "        if val == value :\n",
    "            return key"
   ]
  },
  {
   "cell_type": "code",
   "execution_count": 29,
   "id": "abbe229d",
   "metadata": {
    "scrolled": true
   },
   "outputs": [
    {
     "name": "stdout",
     "output_type": "stream",
     "text": [
      "1/1 [==============================] - 0s 94ms/step\n"
     ]
    },
    {
     "data": {
      "text/plain": [
       "'1000twd'"
      ]
     },
     "execution_count": 29,
     "metadata": {},
     "output_type": "execute_result"
    }
   ],
   "source": [
    "# 모델 불러와서 새로운 이미지 분류해보기\n",
    "\n",
    "from tensorflow.keras.preprocessing import image\n",
    "from tensorflow.keras.models import load_model\n",
    "import numpy as np\n",
    "\n",
    "# 새로운 이미지 불러오기 및 전처리\n",
    "img_path = 'C:/Users/user/Desktop/test/5000krw_test_3.jpg'  # 예시 이미지 경로\n",
    "img = image.load_img(img_path, target_size=(224, 224))  # 이미지 크기 조정\n",
    "img_array = image.img_to_array(img)\n",
    "img_array = np.expand_dims(img_array, axis=0)  # 배치 차원 추가\n",
    "img_array = img_array / 255.0  # 이미지 정규화 (예시로 0~1 범위로 조정)\n",
    "\n",
    "# 모델 불러오기\n",
    "loaded_model = tf.keras.models.load_model(\"C:/Users/user/Downloads/model6/BILLS.hdf5\")\n",
    "\n",
    "# 새로운 이미지에 모델 적용하여 예측\n",
    "predictions = loaded_model.predict(img_array)\n",
    "predicted_class_index = np.argmax(predictions)\n",
    "predicted_class_label = get_key(predicted_class_index)\n",
    "predicted_class_label"
   ]
  },
  {
   "cell_type": "code",
   "execution_count": null,
   "id": "8a62bb1a",
   "metadata": {},
   "outputs": [],
   "source": [
    "# 검증"
   ]
  },
  {
   "cell_type": "code",
   "execution_count": 25,
   "id": "8e1ef3e8",
   "metadata": {
    "ExecuteTime": {
     "end_time": "2023-11-27T15:42:30.632772Z",
     "start_time": "2023-11-27T15:42:30.626377Z"
    }
   },
   "outputs": [
    {
     "name": "stdout",
     "output_type": "stream",
     "text": [
      "dict_keys(['loss', 'accuracy', 'val_loss', 'val_accuracy'])\n"
     ]
    }
   ],
   "source": [
    "print(train_hist.history.keys())"
   ]
  },
  {
   "cell_type": "code",
   "execution_count": 26,
   "id": "623b1c3f",
   "metadata": {
    "ExecuteTime": {
     "end_time": "2023-11-27T15:43:14.332311Z",
     "start_time": "2023-11-27T15:43:14.085447Z"
    }
   },
   "outputs": [
    {
     "data": {
      "image/png": "[encoded data removed]",
      "text/plain": [
       "<Figure size 640x480 with 1 Axes>"
      ]
     },
     "metadata": {},
     "output_type": "display_data"
    }
   ],
   "source": [
    "import matplotlib.pyplot as plt\n",
    "plt.plot(train_hist.history['loss'])\n",
    "plt.xlabel('epoch')\n",
    "plt.ylabel('loss')\n",
    "plt.show()"
   ]
  },
  {
   "cell_type": "code",
   "execution_count": 27,
   "id": "f5aa1129",
   "metadata": {
    "ExecuteTime": {
     "end_time": "2023-11-27T15:43:55.637335Z",
     "start_time": "2023-11-27T15:43:55.443878Z"
    }
   },
   "outputs": [
    {
     "data": {
      "image/png": "[encoded data removed]",
      "text/plain": [
       "<Figure size 640x480 with 1 Axes>"
      ]
     },
     "metadata": {},
     "output_type": "display_data"
    }
   ],
   "source": [
    "\n",
    "plt.plot(train_hist.history['accuracy'])\n",
    "plt.xlabel('epoch')\n",
    "plt.ylabel('accuracy')\n",
    "plt.show()"
   ]
  },
  {
   "cell_type": "code",
   "execution_count": 28,
   "id": "62d70f4f",
   "metadata": {},
   "outputs": [
    {
     "data": {
      "image/png": "[encoded data removed]",
      "text/plain": [
       "<Figure size 640x480 with 1 Axes>"
      ]
     },
     "metadata": {},
     "output_type": "display_data"
    }
   ],
   "source": [
    "plt.plot(train_hist.history['loss'])\n",
    "plt.plot(train_hist.history['val_loss'])\n",
    "plt.xlabel('epoch')\n",
    "plt.ylabel('loss')\n",
    "plt.legend(['train','val'])\n",
    "plt.show()"
   ]
  },
  {
   "cell_type": "code",
   "execution_count": null,
   "id": "86750f4a",
   "metadata": {},
   "outputs": [],
   "source": []
  },
  {
   "cell_type": "code",
   "execution_count": null,
   "id": "50ad6016",
   "metadata": {},
   "outputs": [],
   "source": []
  },
  {
   "cell_type": "code",
   "execution_count": null,
   "id": "486c4f1e",
   "metadata": {},
   "outputs": [],
   "source": [
    "## 이미지 증식 ##"
   ]
  },
  {
   "cell_type": "code",
   "execution_count": 28,
   "id": "b3416f6e",
   "metadata": {},
   "outputs": [],
   "source": [
    "import Augmentor"
   ]
  },
  {
   "cell_type": "code",
   "execution_count": 128,
   "id": "96239393",
   "metadata": {},
   "outputs": [
    {
     "name": "stdout",
     "output_type": "stream",
     "text": [
      "Initialised with 2 image(s) found.\n",
      "Output directory set to C:/Users/user/Desktop/Pics/test/10000krw."
     ]
    },
    {
     "name": "stderr",
     "output_type": "stream",
     "text": [
      "Processing <PIL.JpegImagePlugin.JpegImageFile image mode=RGB size=1558x3500 at 0x249261043D0>: 100%|█| 50/50 [00:03<00:"
     ]
    },
    {
     "name": "stdout",
     "output_type": "stream",
     "text": [
      "이미지 증강이 완료되었습니다.\n"
     ]
    },
    {
     "name": "stderr",
     "output_type": "stream",
     "text": [
      "\n"
     ]
    }
   ],
   "source": [
    "\n",
    "notes = ['10000krw', '1000jpy', '1000krw', '1000twd', '1000vnd', '10euro', '20thb', '2usd', '5000jpy', '5000krw', '500vnd', '50euro']\n",
    "\n",
    "for note in notes:\n",
    "    input_path = f\"C:/Users/user/Desktop/N_test/{note}\"          # 원본 이미지 폴더 경로\n",
    "    output_path = f\"C:/Users/user/Desktop/Pics/test/{note}\"      # 증강 이미지를 저장할 폴더 경로\n",
    "    pipeline = Augmentor.Pipeline(input_path, output_directory=output_path)    # 파이프라인 생성\n",
    "    pipeline.rotate(probability=0.7, max_left_rotation=10, max_right_rotation=10)   # 증강할 이미지 조건 \n",
    "    #pipeline.zoom_random(probability=0.5, percentage_area=0.8)\n",
    "    #pipeline.flip_top_bottom(probability=0.5)\n",
    "\n",
    "    pipeline.sample(50)  # 증강 이미지 수 입력\n",
    "    print(\"이미지 증강이 완료되었습니다.\")"
   ]
  },
  {
   "cell_type": "code",
   "execution_count": null,
   "id": "3d0c758a",
   "metadata": {},
   "outputs": [],
   "source": []
  },
  {
   "cell_type": "code",
   "execution_count": null,
   "id": "2e55b887",
   "metadata": {},
   "outputs": [],
   "source": []
  },
  {
   "cell_type": "code",
   "execution_count": null,
   "id": "9a461e70",
   "metadata": {},
   "outputs": [],
   "source": [
    "## 증식한 이미지를 폴더로 나눠서 넣기 ##"
   ]
  },
  {
   "cell_type": "code",
   "execution_count": 27,
   "id": "81ab1059",
   "metadata": {},
   "outputs": [],
   "source": [
    "import os\n",
    "import random\n",
    "import shutil"
   ]
  },
  {
   "cell_type": "code",
   "execution_count": 59,
   "id": "2158f2cf",
   "metadata": {},
   "outputs": [],
   "source": [
    "# 증강 이미지 폴더 경로\n",
    "original_dataset_dir = \"C:/Users/user/Desktop/Aug\""
   ]
  },
  {
   "cell_type": "code",
   "execution_count": 60,
   "id": "046dd1fa",
   "metadata": {},
   "outputs": [],
   "source": [
    "# 각각의 데이터셋 폴더 생성\n",
    "base_dir = \"C:/Users/user/Desktop/Aug_split\"\n",
    "os.mkdir(base_dir)\n",
    "\n",
    "train_dir = os.path.join(base_dir, 'train')\n",
    "os.mkdir(train_dir)\n",
    "validation_dir = os.path.join(base_dir, 'validation')\n",
    "os.mkdir(validation_dir)\n",
    "test_dir = os.path.join(base_dir, 'test')\n",
    "os.mkdir(test_dir)"
   ]
  },
  {
   "cell_type": "code",
   "execution_count": 61,
   "id": "a4a117ad",
   "metadata": {},
   "outputs": [],
   "source": [
    "# 클래스별 폴더 생성\n",
    "class_folders = os.listdir(original_dataset_dir)"
   ]
  },
  {
   "cell_type": "code",
   "execution_count": 62,
   "id": "8a294bc0",
   "metadata": {},
   "outputs": [],
   "source": [
    "for class_folder in class_folders:\n",
    "    os.mkdir(os.path.join(train_dir, class_folder))\n",
    "    os.mkdir(os.path.join(validation_dir, class_folder))\n",
    "    os.mkdir(os.path.join(test_dir, class_folder))"
   ]
  },
  {
   "cell_type": "code",
   "execution_count": 63,
   "id": "ca5d2055",
   "metadata": {},
   "outputs": [],
   "source": [
    "# 이미지 파일 리스트 생성\n",
    "for class_folder in class_folders:\n",
    "    class_images = os.listdir(os.path.join(original_dataset_dir, class_folder))\n",
    "    random.shuffle(class_images)\n",
    "\n",
    "    train_size = int(0.6 * len(class_images))\n",
    "    val_size = int(0.2 * len(class_images))\n",
    "\n",
    "    train_images = class_images[:train_size]\n",
    "    val_images = class_images[train_size:train_size + val_size]\n",
    "    test_images = class_images[train_size + val_size:]\n",
    "\n",
    "    def copy_images(images, source, destination):\n",
    "        for img in images:\n",
    "            src_path = os.path.join(source, img)\n",
    "            dest_path = os.path.join(destination, img)\n",
    "            shutil.copy(src_path, dest_path)\n",
    "\n",
    "    copy_images(train_images, os.path.join(original_dataset_dir, class_folder), os.path.join(train_dir, class_folder))\n",
    "    copy_images(val_images, os.path.join(original_dataset_dir, class_folder), os.path.join(validation_dir, class_folder))\n",
    "    copy_images(test_images, os.path.join(original_dataset_dir, class_folder), os.path.join(test_dir, class_folder))"
   ]
  },
  {
   "cell_type": "code",
   "execution_count": null,
   "id": "a41dd9a3",
   "metadata": {},
   "outputs": [],
   "source": []
  },
  {
   "cell_type": "code",
   "execution_count": null,
   "id": "5d54dd4c",
   "metadata": {},
   "outputs": [],
   "source": []
  },
  {
   "cell_type": "code",
   "execution_count": null,
   "id": "deb36e0a",
   "metadata": {},
   "outputs": [],
   "source": []
  },
  {
   "cell_type": "code",
   "execution_count": null,
   "id": "d7440639",
   "metadata": {},
   "outputs": [],
   "source": []
  },
  {
   "cell_type": "code",
   "execution_count": null,
   "id": "5e7c70a3",
   "metadata": {},
   "outputs": [],
   "source": []
  },
  {
   "cell_type": "code",
   "execution_count": null,
   "id": "99652066",
   "metadata": {},
   "outputs": [],
   "source": []
  }
 ],
 "metadata": {
  "kernelspec": {
   "display_name": "Python 3 (ipykernel)",
   "language": "python",
   "name": "python3"
  },
  "language_info": {
   "codemirror_mode": {
    "name": "ipython",
    "version": 3
   },
   "file_extension": ".py",
   "mimetype": "text/x-python",
   "name": "python",
   "nbconvert_exporter": "python",
   "pygments_lexer": "ipython3",
   "version": "3.11.4"
  },
  "toc": {
   "base_numbering": 1,
   "nav_menu": {},
   "number_sections": true,
   "sideBar": true,
   "skip_h1_title": false,
   "title_cell": "Table of Contents",
   "title_sidebar": "Contents",
   "toc_cell": false,
   "toc_position": {},
   "toc_section_display": true,
   "toc_window_display": false
  },
  "varInspector": {
   "cols": {
    "lenName": 16,
    "lenType": 16,
    "lenVar": 40
   },
   "kernels_config": {
    "python": {
     "delete_cmd_postfix": "",
     "delete_cmd_prefix": "del ",
     "library": "var_list.py",
     "varRefreshCmd": "print(var_dic_list())"
    },
    "r": {
     "delete_cmd_postfix": ") ",
     "delete_cmd_prefix": "rm(",
     "library": "var_list.r",
     "varRefreshCmd": "cat(var_dic_list()) "
    }
   },
   "types_to_exclude": [
    "module",
    "function",
    "builtin_function_or_method",
    "instance",
    "_Feature"
   ],
   "window_display": false
  }
 },
 "nbformat": 4,
 "nbformat_minor": 5
}
